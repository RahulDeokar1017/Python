{
 "cells": [
  {
   "cell_type": "code",
   "execution_count": null,
   "id": "5f491e8a",
   "metadata": {},
   "outputs": [],
   "source": []
  },
  {
   "cell_type": "markdown",
   "id": "de6fabb1",
   "metadata": {},
   "source": [
    "-----------------------------------------------------------------------------------------------------------------------------"
   ]
  },
  {
   "cell_type": "markdown",
   "id": "971d0100",
   "metadata": {},
   "source": [
    "# Data types in Python"
   ]
  },
  {
   "cell_type": "markdown",
   "id": "fd7bb7f4",
   "metadata": {},
   "source": [
    "1) Numeric\n",
    "\n",
    "    a) Integer (int)       (4 bytes or 32 bits)\n",
    "    \n",
    "    b) Boolean  (bool)\n",
    "  \n",
    "    c) FLoat    (float)\n",
    "   \n",
    "    d) Complex  (complex)\n",
    "\n",
    "\n",
    "2) String\n",
    "\n",
    "\n",
    "3) None\n",
    "\n",
    "\n",
    "4) List\n",
    "\n",
    "5) Tuple\n",
    "\n",
    "6) Dictionary\n",
    "\n",
    "7)Range\n",
    "\n",
    "8) set"
   ]
  },
  {
   "cell_type": "markdown",
   "id": "729379eb",
   "metadata": {},
   "source": [
    "----------------------------------------------------------------------------"
   ]
  },
  {
   "cell_type": "code",
   "execution_count": 54,
   "id": "9560a2c6",
   "metadata": {},
   "outputs": [],
   "source": [
    "a=2 # integer\n",
    "b=2.533    #float\n",
    "s= \"Rahul\" #string\n",
    "c= True \n",
    "d=False    #boolean\n",
    "\n",
    "g=3+7j   #complex\n",
    "\n",
    "h=None   #none\n"
   ]
  },
  {
   "cell_type": "markdown",
   "id": "54df28a9",
   "metadata": {},
   "source": [
    "# String"
   ]
  },
  {
   "cell_type": "code",
   "execution_count": 7,
   "id": "354be299",
   "metadata": {},
   "outputs": [
    {
     "name": "stdout",
     "output_type": "stream",
     "text": [
      "rahul Deokar\n"
     ]
    }
   ],
   "source": [
    "y=\"rahul\"\n",
    "z=\"Deokar\"\n",
    "a=y+\" \"+z\n",
    "print(a)"
   ]
  },
  {
   "cell_type": "code",
   "execution_count": 8,
   "id": "5acfb89b",
   "metadata": {},
   "outputs": [
    {
     "name": "stdout",
     "output_type": "stream",
     "text": [
      "Mytube\n"
     ]
    }
   ],
   "source": [
    "b=\"Youtube\"\n",
    "c=\"My\"+b[3:]\n",
    "print(c)\n"
   ]
  },
  {
   "cell_type": "code",
   "execution_count": 9,
   "id": "e9025cb8",
   "metadata": {},
   "outputs": [
    {
     "name": "stdout",
     "output_type": "stream",
     "text": [
      "tub\n",
      "tube\n",
      "ut\n"
     ]
    }
   ],
   "source": [
    "print(b[3:6])\n",
    "print(b[-4:])\n",
    "print(b[-5:-3])"
   ]
  },
  {
   "cell_type": "markdown",
   "id": "65a34b34",
   "metadata": {},
   "source": [
    "# List"
   ]
  },
  {
   "cell_type": "markdown",
   "id": "47a912ce",
   "metadata": {},
   "source": [
    " List is mutable"
   ]
  },
  {
   "cell_type": "code",
   "execution_count": 7,
   "id": "ea2f7d51",
   "metadata": {},
   "outputs": [
    {
     "name": "stdout",
     "output_type": "stream",
     "text": [
      "['Navin', True, 43, 66.2]\n"
     ]
    }
   ],
   "source": [
    "lst_1=[23,43,13,55]\n",
    "print(l)"
   ]
  },
  {
   "cell_type": "markdown",
   "id": "3f7651a1",
   "metadata": {},
   "source": [
    "**Adding element in the list**\n",
    "\n",
    "  1) insert   (for multiple value at a time)\n",
    "  \n",
    "  2)append   (for adding single value at a time)"
   ]
  },
  {
   "cell_type": "code",
   "execution_count": 37,
   "id": "7cc2b8ed",
   "metadata": {},
   "outputs": [],
   "source": [
    "lst_2=[\"Navin\",True,43,66.2]\n",
    "lst_2.insert(23,87)\n",
    "lst_2.append(54)"
   ]
  },
  {
   "cell_type": "raw",
   "id": "3dcc866f",
   "metadata": {},
   "source": [
    "print(lst_2[-1])"
   ]
  },
  {
   "cell_type": "code",
   "execution_count": 38,
   "id": "dbb4a72a",
   "metadata": {},
   "outputs": [
    {
     "name": "stdout",
     "output_type": "stream",
     "text": [
      "['Navin', True, 43, 66.2, 87, 54]\n"
     ]
    }
   ],
   "source": [
    "print(lst_2)"
   ]
  },
  {
   "cell_type": "markdown",
   "id": "1e3b4758",
   "metadata": {},
   "source": [
    "**Removing/Deleting element from the list**"
   ]
  },
  {
   "cell_type": "markdown",
   "id": "0149b414",
   "metadata": {},
   "source": [
    "1) Remove"
   ]
  },
  {
   "cell_type": "code",
   "execution_count": 44,
   "id": "cb1c0736",
   "metadata": {},
   "outputs": [
    {
     "name": "stdout",
     "output_type": "stream",
     "text": [
      "['sachin', 'Virat', 'Rahul', 'Zaheer']\n"
     ]
    }
   ],
   "source": [
    "lst_4=[\"sachin\",\"Virat\",\"Dhoni\",\"Rahul\",\"Zaheer\"]\n",
    "\n",
    "lst_4.remove(\"Dhoni\")\n",
    "print(lst_4)"
   ]
  },
  {
   "cell_type": "markdown",
   "id": "c43fe0c5",
   "metadata": {},
   "source": [
    "2)pop"
   ]
  },
  {
   "cell_type": "code",
   "execution_count": 48,
   "id": "b8d890ec",
   "metadata": {},
   "outputs": [
    {
     "name": "stdout",
     "output_type": "stream",
     "text": [
      "[23, 43, 55, 47]\n",
      "[23, 43, 55]\n"
     ]
    }
   ],
   "source": [
    "lst_3=[23,43,13,55,47]\n",
    "\n",
    "lst_3.pop(2)\n",
    "print(lst_3)\n",
    "\n",
    "lst_3.pop()      #Remove last element\n",
    "print(lst_3)"
   ]
  },
  {
   "cell_type": "markdown",
   "id": "9cd1d507",
   "metadata": {},
   "source": [
    "3) del"
   ]
  },
  {
   "cell_type": "code",
   "execution_count": 49,
   "id": "559e3183",
   "metadata": {},
   "outputs": [
    {
     "name": "stdout",
     "output_type": "stream",
     "text": [
      "[12, 54, 24, 998, 12]\n"
     ]
    }
   ],
   "source": [
    "lst_5=[12,54,24,777,11,998,12]\n",
    "del lst_5[3:5]\n",
    "print(lst_5)"
   ]
  },
  {
   "cell_type": "markdown",
   "id": "663170d8",
   "metadata": {},
   "source": [
    "Inbuild function of list"
   ]
  },
  {
   "cell_type": "code",
   "execution_count": 50,
   "id": "f2f30d7d",
   "metadata": {},
   "outputs": [
    {
     "name": "stdout",
     "output_type": "stream",
     "text": [
      "90\n",
      "256\n"
     ]
    }
   ],
   "source": [
    "lst_6=[66,88,12,90]\n",
    "print(max(lst_6))\n",
    "print(sum(lst_6))"
   ]
  },
  {
   "cell_type": "markdown",
   "id": "7f6f00fa",
   "metadata": {},
   "source": [
    "---------------------------------------------------------------------------------------------"
   ]
  },
  {
   "cell_type": "markdown",
   "id": "fc2d95c8",
   "metadata": {},
   "source": [
    "# Tuple"
   ]
  },
  {
   "cell_type": "markdown",
   "id": "87481202",
   "metadata": {},
   "source": [
    "Tuple is immutable\n",
    "\n",
    "As tuple is immutable, its speed of execution is faster than list"
   ]
  },
  {
   "cell_type": "code",
   "execution_count": 51,
   "id": "8bd05426",
   "metadata": {},
   "outputs": [
    {
     "name": "stdout",
     "output_type": "stream",
     "text": [
      "(12, 43, 55, 77)\n",
      "('sachin', 7, True, 66.88)\n"
     ]
    }
   ],
   "source": [
    "tup_1=(12,43,55,77)\n",
    "print(tup_1)\n",
    "\n",
    "tup_2=(\"sachin\",7,True,66.88)\n",
    "print(tup_2)"
   ]
  },
  {
   "cell_type": "markdown",
   "id": "e309ce90",
   "metadata": {},
   "source": [
    "-----------------------------------------------------------------------------------------------------------"
   ]
  },
  {
   "cell_type": "markdown",
   "id": "e6fafe09",
   "metadata": {},
   "source": [
    "# Set"
   ]
  },
  {
   "cell_type": "markdown",
   "id": "43a346ba",
   "metadata": {},
   "source": [
    "Set never follow sequence\n",
    "\n",
    "Does not support duplicate value"
   ]
  },
  {
   "cell_type": "code",
   "execution_count": 68,
   "id": "c1900be8",
   "metadata": {},
   "outputs": [
    {
     "name": "stdout",
     "output_type": "stream",
     "text": [
      "{33, 99, 22, 88, 77}\n"
     ]
    }
   ],
   "source": [
    "s={33,22,88,77,99,88,88,88,88}\n",
    "print(s)"
   ]
  },
  {
   "cell_type": "code",
   "execution_count": 69,
   "id": "4a5118af",
   "metadata": {},
   "outputs": [
    {
     "name": "stdout",
     "output_type": "stream",
     "text": [
      "{33, 99, 22, 88, 333, 77}\n"
     ]
    }
   ],
   "source": [
    "s.add(333)\n",
    "print(s)"
   ]
  },
  {
   "cell_type": "code",
   "execution_count": 70,
   "id": "12a21ec6",
   "metadata": {},
   "outputs": [
    {
     "data": {
      "text/plain": [
       "33"
      ]
     },
     "execution_count": 70,
     "metadata": {},
     "output_type": "execute_result"
    }
   ],
   "source": [
    "s.pop()\n",
    "#print(s)"
   ]
  },
  {
   "cell_type": "code",
   "execution_count": 71,
   "id": "fbcd7c97",
   "metadata": {},
   "outputs": [
    {
     "name": "stdout",
     "output_type": "stream",
     "text": [
      "{22, 88, 333, 77}\n"
     ]
    }
   ],
   "source": [
    "s.pop()\n",
    "print(s)"
   ]
  },
  {
   "cell_type": "markdown",
   "id": "1fb77007",
   "metadata": {},
   "source": [
    "---------------------------------------------------------------------------------------------------"
   ]
  },
  {
   "cell_type": "markdown",
   "id": "1f6d2d9a",
   "metadata": {},
   "source": [
    "# Dictionary"
   ]
  },
  {
   "cell_type": "code",
   "execution_count": 1,
   "id": "be0569b2",
   "metadata": {},
   "outputs": [],
   "source": [
    "data={10:\"Sachin\",\"Country\":\"India\",\"average\":50.55,\"Retired\":True}"
   ]
  },
  {
   "cell_type": "code",
   "execution_count": 4,
   "id": "009074a3",
   "metadata": {},
   "outputs": [
    {
     "data": {
      "text/plain": [
       "True"
      ]
     },
     "execution_count": 4,
     "metadata": {},
     "output_type": "execute_result"
    }
   ],
   "source": [
    "data[\"Retired\"]"
   ]
  },
  {
   "cell_type": "code",
   "execution_count": 5,
   "id": "e4d8d3f5",
   "metadata": {},
   "outputs": [
    {
     "data": {
      "text/plain": [
       "'Sachin'"
      ]
     },
     "execution_count": 5,
     "metadata": {},
     "output_type": "execute_result"
    }
   ],
   "source": [
    "data.get(10,\"not found\")"
   ]
  },
  {
   "cell_type": "code",
   "execution_count": 6,
   "id": "bc7c5251",
   "metadata": {},
   "outputs": [
    {
     "data": {
      "text/plain": [
       "'not found'"
      ]
     },
     "execution_count": 6,
     "metadata": {},
     "output_type": "execute_result"
    }
   ],
   "source": [
    "data.get(11,\"not found\")"
   ]
  },
  {
   "cell_type": "code",
   "execution_count": 47,
   "id": "1ac2a6ef",
   "metadata": {},
   "outputs": [
    {
     "name": "stdout",
     "output_type": "stream",
     "text": [
      "{'Rahul': 'Python', 'Gunwant': 'C++', 'Sandip': 'Java', 'Shubham': 'JavaScript'}\n"
     ]
    }
   ],
   "source": [
    "name=[\"Rahul\",\"Gunwant\",\"Sandip\",\"Shubham\"]\n",
    "lang=[\"Python\",\"C++\",\"Java\",\"JavaScript\"]\n",
    "info=dict(zip(name,lang))\n",
    "\n",
    "print(info)"
   ]
  },
  {
   "cell_type": "code",
   "execution_count": 48,
   "id": "c427bf87",
   "metadata": {},
   "outputs": [],
   "source": [
    "info[\"Anand\"]=\"HTML\""
   ]
  },
  {
   "cell_type": "code",
   "execution_count": 49,
   "id": "4a5c0519",
   "metadata": {},
   "outputs": [],
   "source": [
    "info[\"Sandip\"]=\"CSS\""
   ]
  },
  {
   "cell_type": "code",
   "execution_count": 50,
   "id": "76b16be3",
   "metadata": {},
   "outputs": [
    {
     "name": "stdout",
     "output_type": "stream",
     "text": [
      "{'Rahul': 'Python', 'Gunwant': 'C++', 'Sandip': 'CSS', 'Shubham': 'JavaScript', 'Anand': 'HTML'}\n"
     ]
    }
   ],
   "source": [
    "print(info)"
   ]
  },
  {
   "cell_type": "code",
   "execution_count": 51,
   "id": "af0a95a7",
   "metadata": {},
   "outputs": [
    {
     "name": "stdout",
     "output_type": "stream",
     "text": [
      "{'Rahul': 'Python', 'Sandip': 'CSS', 'Shubham': 'JavaScript', 'Anand': 'HTML'}\n"
     ]
    }
   ],
   "source": [
    "del info['Gunwant']\n",
    "print(info)"
   ]
  },
  {
   "cell_type": "code",
   "execution_count": null,
   "id": "dec6b4d0",
   "metadata": {},
   "outputs": [],
   "source": []
  },
  {
   "cell_type": "markdown",
   "id": "6f969d90",
   "metadata": {},
   "source": [
    "-> List ,tuple , set inside the Dictionary"
   ]
  },
  {
   "cell_type": "code",
   "execution_count": 37,
   "id": "4d73c612",
   "metadata": {},
   "outputs": [],
   "source": [
    "lang={\"Java\":[\"App Developement\",\"Web Developement\"],\"C++\":(\"Operating System\",\"Game Developement\",\"Embedded System\"),\"Python\":{\"Data Science\",\"Machine Learning\",\"Artifical Intelligence\"}}\n"
   ]
  },
  {
   "cell_type": "code",
   "execution_count": 38,
   "id": "69d01bf6",
   "metadata": {},
   "outputs": [
    {
     "name": "stdout",
     "output_type": "stream",
     "text": [
      "('Operating System', 'Game Developement', 'Embedded System')\n"
     ]
    }
   ],
   "source": [
    "print(lang[\"C++\"])"
   ]
  },
  {
   "cell_type": "markdown",
   "id": "6764eeaf",
   "metadata": {},
   "source": [
    "# ID/Address in Python"
   ]
  },
  {
   "cell_type": "code",
   "execution_count": 10,
   "id": "6154ad2c",
   "metadata": {},
   "outputs": [
    {
     "name": "stdout",
     "output_type": "stream",
     "text": [
      "2401199352400\n",
      "2401199352400\n",
      "2401199352400\n"
     ]
    }
   ],
   "source": [
    "a=10\n",
    "              #id()  function gives the memory address of the variable\n",
    "b=a\n",
    "c=10    \n",
    "\n",
    "print(id(c))        #IN python when we creatw variable and if they have same value then they point to the same memory address\n",
    "                     #This is why python is more memory efficient\n",
    "print(id(a))       \n",
    "\n",
    "print(id(b))"
   ]
  },
  {
   "cell_type": "markdown",
   "id": "6243ac73",
   "metadata": {},
   "source": [
    "# Constant"
   ]
  },
  {
   "cell_type": "markdown",
   "id": "ce0f3e4d",
   "metadata": {},
   "source": [
    "Like other programming languages ,we cannot declare  'constant value'"
   ]
  },
  {
   "cell_type": "code",
   "execution_count": null,
   "id": "d98811d4",
   "metadata": {},
   "outputs": [],
   "source": []
  }
 ],
 "metadata": {
  "kernelspec": {
   "display_name": "Python 3 (ipykernel)",
   "language": "python",
   "name": "python3"
  },
  "language_info": {
   "codemirror_mode": {
    "name": "ipython",
    "version": 3
   },
   "file_extension": ".py",
   "mimetype": "text/x-python",
   "name": "python",
   "nbconvert_exporter": "python",
   "pygments_lexer": "ipython3",
   "version": "3.9.12"
  }
 },
 "nbformat": 4,
 "nbformat_minor": 5
}
